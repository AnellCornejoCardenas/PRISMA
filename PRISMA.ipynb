{
 "cells": [
  {
   "cell_type": "markdown",
   "id": "db152ebe",
   "metadata": {},
   "source": [
    "PRISMA : Producing Resolved and Integrated Spectra from siMulated gAlaxies\n",
    "========\n",
    "\n",
    "In this notebook, we run **PRISMA** using **simulated galaxies** and version **2025.0** of [**CIGALE**](https://cigale.lam.fr/download/). This code allows us to generate IFU images (i.e., datacubes) of simulated galaxies. The output of this notebook consists of directories containing the spectra of each spaxel that includes young stellar particles.\n",
    "\n",
    "To run this notebook, we need to provide two input files: one containing the **stellar information**, and another with the **gas information** of the galaxy. We also require a set of user-defined parameters, as described below. The structure and description of each input file are given in the following tables.\n",
    "\n",
    "- **Table with the Stellar particles information:**\n",
    "\n",
    "| Column name       | Description                                                                 |\n",
    "|-------------------|-----------------------------------------------------------------------------|\n",
    "| ID particle        | ID of each stellar particle                                                 |\n",
    "| x (kpc)            | x position in kpc                                                           |\n",
    "| y (kpc)            | y position in kpc                                                           |\n",
    "| z (kpc)            | z position in kpc                                                           |\n",
    "| vx (km/s)          | velocity along the x-axis in km/s                                           |\n",
    "| vy (km/s)          | velocity along the y-axis in km/s                                           |\n",
    "| vz (km/s)          | velocity along the z-axis in km/s                                           |\n",
    "| mass (M☉)          | stellar particle mass in solar masses                                       |\n",
    "| Z                  | stellar metallicity                                                         |\n",
    "| age (yr)           | stellar age in years                                                        |\n",
    "| abund_O (M☉)       | oxygen abundance in solar masses                                            |\n",
    "| abund_H (M☉)       | hydrogen abundance in solar masses                                          |\n",
    "| flag               | indicates whether the particle was initially a star-forming gas particle: 1 = yes, 0 = no |\n",
    "\n",
    "---\n",
    "\n",
    "\n",
    "\n",
    "- **Table with the Gas particles information:**\n",
    "\n",
    "| Column name                   | Description                                                                 |\n",
    "|-------------------------------|-----------------------------------------------------------------------------|\n",
    "| ID particle                   | ID of each gas particle                                                     |\n",
    "| x (kpc)                       | x position in kpc                                                           |\n",
    "| y (kpc)                       | y position in kpc                                                           |\n",
    "| z (kpc)                       | z position in kpc                                                           |\n",
    "| vx (km/s)                     | velocity along the x-axis in km/s                                           |\n",
    "| vy (km/s)                     | velocity along the y-axis in km/s                                           |\n",
    "| vz (km/s)                     | velocity along the z-axis in km/s                                           |\n",
    "| mass (M☉)                     | gas particle mass in solar masses                                           |\n",
    "| abun_HI                       | neutral hydrogen abundance (nHI/nH)                                         |\n",
    "| Z                             | gas metallicity                                                             |\n",
    "| fractional electron number density | electron number density, \\(n_e\\)                                       |\n",
    "| gas density (M☉/kpc³)          | gas density in solar masses per cubic kiloparsec                            |\n",
    "| internal energy ((km/s)²)     | internal energy of the gas                                                  |\n",
    "| sfr (M☉/yr)                   | instantaneous star formation rate                                           |\n",
    "| abund_H (M☉)                  | hydrogen abundance in solar masses                                          |\n",
    "| abund_O (M☉)                  | oxygen abundance in solar masses                                            |\n",
    "| smoothing_length (kpc)        | smoothing length                                                            |"
   ]
  },
  {
   "cell_type": "markdown",
   "id": "cb2b5b51",
   "metadata": {},
   "source": [
    "## Importing packages\n",
    "\n",
    "We start by importing the necessary libraries and adding the folder with custom PRISMA scripts to the system path."
   ]
  },
  {
   "cell_type": "code",
   "execution_count": null,
   "id": "5893c098",
   "metadata": {},
   "outputs": [],
   "source": [
    "# Load custom PRISMA scripts\n",
    "import sys\n",
    "sys.path.append('Scripts/')  # Folder containing PRISMA's internal scripts\n",
    "import prisma as pr\n",
    "\n",
    "\n",
    "# Data handling and file system\n",
    "import pandas as pd      # For reading input data files\n",
    "import os                # For directory and path handling"
   ]
  },
  {
   "cell_type": "markdown",
   "id": "c4ce29bb",
   "metadata": {},
   "source": [
    "## Input parameters\n",
    "\n",
    "In this section, we load the input data tables (stellar and gas particles) and define a set of parameters that control the orientation of the galaxy and the size of the spaxels.\n",
    "\n",
    "- **User-defined parameters:**\n",
    "  - `rot_axis` : rotation axis of the galaxy (`\"x\"`, `\"y\"`, or `\"z\"`)\n",
    "  - `angle` : rotation angle (in degrees, range: 0° to 360°)\n",
    "  - `limit` : physical size of the galaxy field (in kpc)\n",
    "  - `cell_size` : spaxel (cell) size (in kpc)\n",
    "  - `age_threshold` : maximum age (in years) for selecting young stellar populations (the default value is 10^7 years)\n",
    "  - `neb_f_esc` : fraction of ionizing photons that escape without contributing to nebular emission\n",
    "  - `neb_f_dust` : fraction of ionizing photons absorbed by dust in the star-forming region\n",
    "\n",
    "- **Other parameters:**\n",
    "  - `sim_name` : simulation name (string)\n",
    "  - `galaxy_ids` : galaxy ID (string)\n",
    "  - `input_path` : directory containing the input stellar and gas data tables\n",
    "  - `redshift` : redshift of the snapshot (the default value is 0)\n",
    "  - `plott` : boolean flag to display the IFU image of the galaxy\n",
    "  - `save_intrinsic_info` : boolean flag to save the intrinsic physical information of the spaxels\n",
    "  - `run_cigale` : boolean flag to run CIGALE and compute spectra\n",
    "  - `dust_att` : boolean flag to include ISM dust attenuation using Calzetti et al. (2000) law"
   ]
  },
  {
   "cell_type": "code",
   "execution_count": null,
   "id": "ca328978",
   "metadata": {},
   "outputs": [],
   "source": [
    "### USER-DEFINED PARAMETERS\n",
    "\n",
    "# Rotation parameters\n",
    "rot_axis = \"y\"         # axis to rotate the galaxy\n",
    "angle = 0              # rotation angle in degrees\n",
    "\n",
    "# Spaxel configuration\n",
    "limit = 30             # physical size of the cube in kpc\n",
    "cell_size = 1          # size of each spaxel in kpc\n",
    "\n",
    "# Stellar population & nebular parameters\n",
    "age_threshold = 1e7    # maximum age in years for young stellar populations\n",
    "neb_f_esc = 0.1        # 10% of photons escape the nebular region\n",
    "neb_f_dust = 0.5       # 50% of photons are absorbed by dust within the SF region\n",
    "\n",
    "\n",
    "### OTHER PARAMETERS\n",
    "\n",
    "# Galaxy information\n",
    "sim_name = \"147062\"         # name of the simulation\n",
    "galaxy_id = '9110'               # galaxy ID to analyze\n",
    "redshift = 0.0                   # redshift of the snapshot\n",
    "\n",
    "# Path configuration\n",
    "input_path = f'{os.getcwd()}/Data_sims'  # path to input stellar and gas tables\n",
    "\n",
    "# Run control flags\n",
    "save_intrinsic_info = True    # store spaxel-level intrinsic properties\n",
    "plott = True                 # plot IFU images of the galaxy\n",
    "run_cigale = True            # run CIGALE to compute spectra\n",
    "dust_att = False              # apply Calzetti ISM dust attenuation"
   ]
  },
  {
   "cell_type": "markdown",
   "id": "10494499",
   "metadata": {},
   "source": [
    "### Running PRISMA"
   ]
  },
  {
   "cell_type": "code",
   "execution_count": null,
   "id": "0edbcf7e-a10b-411a-800c-9d3317bec26f",
   "metadata": {},
   "outputs": [],
   "source": [
    "# Load the gas particle data for the selected galaxy\n",
    "t_gas = pd.read_csv(f\"{input_path}/gas_parts_information_{sim_name}-{galaxy_id}.csv\")"
   ]
  },
  {
   "cell_type": "code",
   "execution_count": null,
   "id": "0adb313a-f02f-4f36-8444-815c5ddde76c",
   "metadata": {},
   "outputs": [],
   "source": [
    "# Load the stellar particle data for the selected galaxy\n",
    "t_stars=pd.read_csv(f\"{input_path}/stellar_parts_information_{sim_name}-{galaxy_id}.csv\")"
   ]
  },
  {
   "cell_type": "code",
   "execution_count": null,
   "id": "68d15358-2875-436a-b50b-5c63e818ab1f",
   "metadata": {
    "scrolled": true
   },
   "outputs": [],
   "source": [
    "%%time\n",
    "dic = pr.PRISMA(t_gas, t_stars, \n",
    "           sim_name, galaxy_id,cell_size,angle,rot_axis,limit,redshift,\n",
    "           neb_f_esc,neb_f_dust,age_threshold,\n",
    "           run_cigale, save_intrinsic_info,plott,dust_att)"
   ]
  },
  {
   "cell_type": "markdown",
   "id": "1d71f869-3672-4b5f-8b00-819ca1262296",
   "metadata": {},
   "source": [
    "The notebook PRISMA_Results_Visualization.ipynb at utils/ directory shows how to read PRISMA results."
   ]
  },
  {
   "cell_type": "code",
   "execution_count": null,
   "id": "42491754-f70b-49c0-810a-78ce437e5452",
   "metadata": {},
   "outputs": [],
   "source": []
  }
 ],
 "metadata": {
  "kernelspec": {
   "display_name": "Python 3 (ipykernel)",
   "language": "python",
   "name": "python3"
  },
  "language_info": {
   "codemirror_mode": {
    "name": "ipython",
    "version": 3
   },
   "file_extension": ".py",
   "mimetype": "text/x-python",
   "name": "python",
   "nbconvert_exporter": "python",
   "pygments_lexer": "ipython3",
   "version": "3.9.16"
  },
  "toc": {
   "base_numbering": 1,
   "nav_menu": {},
   "number_sections": true,
   "sideBar": true,
   "skip_h1_title": false,
   "title_cell": "Table of Contents",
   "title_sidebar": "Contents",
   "toc_cell": false,
   "toc_position": {
    "height": "calc(100% - 180px)",
    "left": "10px",
    "top": "150px",
    "width": "165px"
   },
   "toc_section_display": true,
   "toc_window_display": true
  }
 },
 "nbformat": 4,
 "nbformat_minor": 5
}
